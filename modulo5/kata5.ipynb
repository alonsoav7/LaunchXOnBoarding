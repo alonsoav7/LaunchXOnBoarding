{
 "cells": [
  {
   "cell_type": "markdown",
   "metadata": {},
   "source": [
    "# Ejercicios Kata 5"
   ]
  },
  {
   "cell_type": "markdown",
   "metadata": {},
   "source": [
    "Ejercicio 1"
   ]
  },
  {
   "cell_type": "code",
   "execution_count": 3,
   "metadata": {},
   "outputs": [
    {
     "name": "stdout",
     "output_type": "stream",
     "text": [
      "628949330\n"
     ]
    }
   ],
   "source": [
    "Tierra_dist = int ('149597870')\n",
    "Jupiter_dist = int('778547200')\n",
    "\n",
    "Distancia_calc = abs (Tierra_dist - Jupiter_dist)\n",
    "\n",
    "print (Distancia_calc)"
   ]
  },
  {
   "cell_type": "code",
   "execution_count": 13,
   "metadata": {},
   "outputs": [
    {
     "name": "stdout",
     "output_type": "stream",
     "text": [
      "628949330\n",
      "390577534\n"
     ]
    }
   ],
   "source": [
    "from math import ceil, floor\n",
    "\n",
    "millas = float ('0.621')\n",
    "Tierra_dist = int ('149597870')\n",
    "Jupiter_dist = int('778547200')\n",
    "\n",
    "Distancia_calc = abs (Tierra_dist - Jupiter_dist)\n",
    "print (Distancia_calc)\n",
    "\n",
    "Distancia_en_millas = ceil (Distancia_calc * millas)\n",
    "\n",
    "print (Distancia_en_millas)\n"
   ]
  },
  {
   "cell_type": "markdown",
   "metadata": {},
   "source": [
    "# Ejercicio 2"
   ]
  },
  {
   "cell_type": "code",
   "execution_count": 18,
   "metadata": {},
   "outputs": [
    {
     "name": "stdout",
     "output_type": "stream",
     "text": [
      "3.105\n"
     ]
    }
   ],
   "source": [
    "#Almacenar las entradas del usuario\n",
    "\n",
    "planeta1 = input ('Ingrese la distancia del planeta 1')\n",
    "planeta2 = input ('Ingrese la distancia del planeta 2')\n",
    "\n",
    "#Convierte cadena a entero\n",
    "\n",
    "dist_planeta1 = int (planeta1)\n",
    "dist_planeta2 = int (planeta2)\n",
    "\n",
    "#calcular distancia en valor absoluto\n",
    "\n",
    "Distancia_calc = abs (dist_planeta1 - dist_planeta2) \n",
    "\n",
    "#Conversión a millas\n",
    "\n",
    "Distancia_en_millas = (Distancia_calc * millas)\n",
    "print (Distancia_en_millas)\n",
    "\n"
   ]
  }
 ],
 "metadata": {
  "interpreter": {
   "hash": "397704579725e15f5c7cb49fe5f0341eb7531c82d19f2c29d197e8b64ab5776b"
  },
  "kernelspec": {
   "display_name": "Python 3.9.10 64-bit",
   "language": "python",
   "name": "python3"
  },
  "language_info": {
   "codemirror_mode": {
    "name": "ipython",
    "version": 3
   },
   "file_extension": ".py",
   "mimetype": "text/x-python",
   "name": "python",
   "nbconvert_exporter": "python",
   "pygments_lexer": "ipython3",
   "version": "3.9.10"
  },
  "orig_nbformat": 4
 },
 "nbformat": 4,
 "nbformat_minor": 2
}
