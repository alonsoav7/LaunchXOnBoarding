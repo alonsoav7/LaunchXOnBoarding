{
 "cells": [
  {
   "cell_type": "markdown",
   "metadata": {},
   "source": [
    "# Problema 1"
   ]
  },
  {
   "cell_type": "code",
   "execution_count": 10,
   "metadata": {},
   "outputs": [
    {
     "name": "stdout",
     "output_type": "stream",
     "text": [
      "¡Alerta! ¡Un asteroide se acerca a velocidades peligrosas!\n"
     ]
    }
   ],
   "source": [
    "vel_asteroide = 49 \n",
    "if vel_asteroide > 25:\n",
    "    print('¡Alerta! ¡Un asteroide se acerca a velocidades peligrosas!')\n",
    "else:\n",
    "    print('¡Sigue con tu día!')\n"
   ]
  },
  {
   "cell_type": "markdown",
   "metadata": {},
   "source": [
    "# Problema 2"
   ]
  },
  {
   "cell_type": "code",
   "execution_count": 11,
   "metadata": {},
   "outputs": [
    {
     "name": "stdout",
     "output_type": "stream",
     "text": [
      "Nada para ver\n"
     ]
    }
   ],
   "source": [
    "vel_asteroide = 19\n",
    "if vel_asteroide >= 20:\n",
    "    print (\"Una luz en el cielo! Asteroide a la vista\")\n",
    "else: \n",
    "    print (\"Nada para ver\")"
   ]
  },
  {
   "cell_type": "markdown",
   "metadata": {},
   "source": [
    "# Problema 3"
   ]
  },
  {
   "cell_type": "code",
   "execution_count": 17,
   "metadata": {},
   "outputs": [
    {
     "name": "stdout",
     "output_type": "stream",
     "text": [
      "Nada para ver\n"
     ]
    }
   ],
   "source": [
    "vel_asteroide = int (input(\"introduzca la velocidad del asteroide\"))\n",
    "dim_asteroide = int (input(\"introduzca la dimesión del asteroide\"))\n",
    "\n",
    "if dim_asteroide > 25 and vel_asteroide > 25:\n",
    "    print (\"Un asteroide se acerca a la tierra a velocidad peligrosa, causará mucho daño\")\n",
    "elif vel_asteroide >= 20: \n",
    "    print (\"Una luz en el cielo! Asteroide a la vista\")\n",
    "elif dim_asteroide < 20:\n",
    "    print (\"Nada para ver\")\n",
    "else :\n",
    "    print (\"Nada para ver\")"
   ]
  }
 ],
 "metadata": {
  "interpreter": {
   "hash": "d826e36f4b31c7e65e1020dfd27cda436d2cdd1e17f90f088fe7a404cb8fccb2"
  },
  "kernelspec": {
   "display_name": "Python 3.9.10 ('env': venv)",
   "language": "python",
   "name": "python3"
  },
  "language_info": {
   "codemirror_mode": {
    "name": "ipython",
    "version": 3
   },
   "file_extension": ".py",
   "mimetype": "text/x-python",
   "name": "python",
   "nbconvert_exporter": "python",
   "pygments_lexer": "ipython3",
   "version": "3.9.10"
  },
  "orig_nbformat": 4
 },
 "nbformat": 4,
 "nbformat_minor": 2
}
