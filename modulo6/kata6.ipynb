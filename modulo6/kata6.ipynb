{
 "cells": [
  {
   "cell_type": "markdown",
   "metadata": {},
   "source": [
    "# Ejercicio 1"
   ]
  },
  {
   "cell_type": "code",
   "execution_count": 14,
   "metadata": {},
   "outputs": [
    {
     "name": "stdout",
     "output_type": "stream",
     "text": [
      "El total de planetas es: 8\n"
     ]
    }
   ],
   "source": [
    "# Creamos la lista planets y la mostramos\n",
    "\n",
    "planets = ['mercurio','venus','tierra','marte','jupiter','saturno','urano','neptuno']\n",
    "num_planets = len(planets)\n",
    "print ('El total de planetas es:',num_planets)"
   ]
  },
  {
   "cell_type": "markdown",
   "metadata": {},
   "source": [
    "Agregamos a plutón y mostramos el último elemento"
   ]
  },
  {
   "cell_type": "code",
   "execution_count": 15,
   "metadata": {},
   "outputs": [
    {
     "name": "stdout",
     "output_type": "stream",
     "text": [
      "El total de planetas es: 9\n",
      "El último planeta es: Plutón\n"
     ]
    }
   ],
   "source": [
    "planets.append('Plutón')\n",
    "num_planets = len(planets)\n",
    "print ('El total de planetas es:',num_planets)\n",
    "print ('El último planeta es:',planets[-1])"
   ]
  },
  {
   "cell_type": "markdown",
   "metadata": {},
   "source": [
    "# Ejercicio 2"
   ]
  },
  {
   "cell_type": "code",
   "execution_count": 18,
   "metadata": {},
   "outputs": [
    {
     "name": "stdout",
     "output_type": "stream",
     "text": [
      "4\n",
      "Estos son los planetas más cercanos al sol que jupiter\n",
      "['mercurio', 'venus', 'tierra', 'marte']\n",
      "Estos son los planetas más cercanos al sol que jupiter\n",
      "['saturno', 'urano', 'neptuno']\n"
     ]
    }
   ],
   "source": [
    "#Lista de planetas\n",
    "planets = ['mercurio','venus','tierra','marte','jupiter','saturno','urano','neptuno']\n",
    "\n",
    "# Solicitamos el nombre de un planeta\n",
    "nombre_planeta = input ('Ingresa el nombre de un planeta')\n",
    "\n",
    "# Busca el planeta en la lista\n",
    "busca_planeta = planets.index (nombre_planeta)\n",
    "print (busca_planeta)\n",
    "\n",
    "# Muestra los planetas más cercanos al sol\n",
    "\n",
    "print('Estos son los planetas más cercanos al sol que ' + nombre_planeta)\n",
    "print(planets[0:busca_planeta])\n",
    "\n",
    "# Muestra los planetas más lejanos al sol\n",
    "\n",
    "print('Estos son los planetas más cercanos al sol que ' + nombre_planeta)\n",
    "print(planets[busca_planeta + 1:])"
   ]
  }
 ],
 "metadata": {
  "interpreter": {
   "hash": "397704579725e15f5c7cb49fe5f0341eb7531c82d19f2c29d197e8b64ab5776b"
  },
  "kernelspec": {
   "display_name": "Python 3.9.10 64-bit",
   "language": "python",
   "name": "python3"
  },
  "language_info": {
   "codemirror_mode": {
    "name": "ipython",
    "version": 3
   },
   "file_extension": ".py",
   "mimetype": "text/x-python",
   "name": "python",
   "nbconvert_exporter": "python",
   "pygments_lexer": "ipython3",
   "version": "3.9.10"
  },
  "orig_nbformat": 4
 },
 "nbformat": 4,
 "nbformat_minor": 2
}
